{
 "cells": [
  {
   "cell_type": "code",
   "execution_count": 55,
   "id": "5dab10b0-c426-4949-8dc3-b5ac3e4b68b1",
   "metadata": {},
   "outputs": [],
   "source": [
    "import pandas as pd"
   ]
  },
  {
   "cell_type": "markdown",
   "id": "f68a1543-35db-4f95-8a96-056511d6e06d",
   "metadata": {
    "tags": []
   },
   "source": [
    "Devido ao tamnaho do dataset, nãi irei utilizar todo o dataset, focarei nos estados pertecentes ás regiões do cinturão do milho e trigo. COm estes estados são regiões agrárias dos Estados Unidos a detecção de secas é altamente relevantes.\n",
    "\n",
    "Os estados são Kansas, Oklahoma, Texas, Nebraska, Colorado, Montana, North Dakota, South Dakota, Minnesota, Indiana, Illinois, Iowa e Missouri. Fonte (https://www.britannica.com/place/Corn-Belt; https://www.britannica.com/place/Wheat-Belt-North-America)\n",
    "\n",
    "De acordo com o Escritório de Census dos Estado Unidos os FIPS dos estados começam com os seguintes dois dígitos:\n",
    "\n",
    "Kansas: 20, Oklahoma: 40, Texas: 48, Nebraska:31, Colorado: 08, Montana: 30, North Dakota: 38, South Dakota: 46, Minnesota: 27, Indiana: 18, Illinois: 17, Iowa: 19, Missouri: 29\n"
   ]
  },
  {
   "cell_type": "code",
   "execution_count": 64,
   "id": "7bf703a4-0abd-49eb-8e0c-3e29a8eb1186",
   "metadata": {},
   "outputs": [],
   "source": [
    "fips_4d =('8') # tupla de fips com 4 dígitos qeu começam com os dígitos que quero manter\n",
    "fips_5d= ('20','40','48','31','30','38','46','27','18','17','19','29')  # tupla de fips com 5 dígitos qeu começam com os dígitos que quero manter\n",
    "#Função para reduzir os dataframes filtrando apenas os estados de interesse\n",
    "def redu_df(df):\n",
    "    df.fips=df.fips.astype('string')\n",
    "    redu_df = df[(df.fips.str.startswith(fips_5d))&(df.fips.map(len)==5)|(df.fips.str.startswith(fips_4d))]\n",
    "    redu_df = redu_df.reset_index(drop=True)\n",
    "    return redu_df"
   ]
  },
  {
   "cell_type": "code",
   "execution_count": 44,
   "id": "0cc3933c-24d6-4f7f-aa20-929aae8f7034",
   "metadata": {},
   "outputs": [],
   "source": [
    "#Carrega datasets\n",
    "train =pd.read_csv('train_timeseries\\\\train_timeseries.csv')\n",
    "valid =pd.read_csv('validation_timeseries\\\\validation_timeseries.csv')\n",
    "test =pd.read_csv('test_timeseries\\\\test_timeseries.csv')\n",
    "solo =pd.read_csv('soil_data.csv')"
   ]
  },
  {
   "cell_type": "code",
   "execution_count": 65,
   "id": "10c33e35-c4ab-4781-9fb5-f1c1168bd967",
   "metadata": {},
   "outputs": [],
   "source": [
    "#Crian datasets reduzidos e salva\n",
    "redu_train = redu_df(train)\n",
    "redu_valid = redu_df(valid)\n",
    "redu_test = redu_df(test)\n",
    "redu_solo = redu_df(solo)\n",
    "redu_train.to_pickle('datasets//redu_train.pbz2')\n",
    "redu_valid.to_pickle('datasets//redu_valid.pbz2')\n",
    "redu_test.to_pickle('datasets//redu_test.pbz2')\n",
    "redu_solo.to_pickle('datasets//redu_solo.pbz2')"
   ]
  },
  {
   "cell_type": "code",
   "execution_count": 54,
   "id": "ff6c13ad-599a-4cb2-bf37-ba11102c261d",
   "metadata": {},
   "outputs": [
    {
     "name": "stdout",
     "output_type": "stream",
     "text": [
      "(19300680, 21)\n",
      "(7843230, 21)\n"
     ]
    }
   ],
   "source": [
    "print(train.shape)\n",
    "print(redu_train.shape)"
   ]
  },
  {
   "cell_type": "markdown",
   "id": "7c37bae7-0cbb-4843-ba0f-6ade3c947e89",
   "metadata": {},
   "source": [
    "A base de dados foi reduzida em 60%"
   ]
  },
  {
   "cell_type": "code",
   "execution_count": null,
   "id": "f4374954-5f9c-4445-8c7d-0d51ad5f8800",
   "metadata": {},
   "outputs": [],
   "source": []
  }
 ],
 "metadata": {
  "kernelspec": {
   "display_name": "Python 3",
   "language": "python",
   "name": "python3"
  },
  "language_info": {
   "codemirror_mode": {
    "name": "ipython",
    "version": 3
   },
   "file_extension": ".py",
   "mimetype": "text/x-python",
   "name": "python",
   "nbconvert_exporter": "python",
   "pygments_lexer": "ipython3",
   "version": "3.8.8"
  }
 },
 "nbformat": 4,
 "nbformat_minor": 5
}
