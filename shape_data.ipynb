{
 "cells": [
  {
   "cell_type": "code",
   "execution_count": 75,
   "id": "ca436b1d-d82e-42bb-8c03-2d98592d293d",
   "metadata": {},
   "outputs": [],
   "source": [
    "import pandas as pd\n",
    "import numpy as np\n",
    "from tqdm.notebook import tqdm"
   ]
  },
  {
   "cell_type": "code",
   "execution_count": 76,
   "id": "8ec1cc45-4a69-4336-a6a6-b996c1cdd3a3",
   "metadata": {},
   "outputs": [],
   "source": [
    "train_df =pd.read_pickle('model_datasets/train_model.pbz2')\n",
    "valid_df=pd.read_pickle('model_datasets/valid_model.pbz2')\n",
    "test_df=pd.read_pickle('model_datasets/test_model.pbz2')"
   ]
  },
  {
   "cell_type": "code",
   "execution_count": 77,
   "id": "88b070b1-b3df-4d88-a2d9-c8bd54d536af",
   "metadata": {},
   "outputs": [],
   "source": [
    "train_df=train_df[train_df.fips.str.startswith('8')]\n",
    "valid_df=valid_df[valid_df.fips.str.startswith('8')]\n",
    "test_df=test_df[test_df.fips.str.startswith('8')]"
   ]
  },
  {
   "cell_type": "code",
   "execution_count": 78,
   "id": "0ed24a80-1ef4-46ef-a02d-913d684c008e",
   "metadata": {},
   "outputs": [],
   "source": [
    "def shape_data(df,cols):\n",
    "    dates=df['date'].unique()\n",
    "    fips=df['fips'].unique()\n",
    "    lista=[]\n",
    "    for date in tqdm(dates):\n",
    "        date_lst=[]\n",
    "        for fip in fips:\n",
    "            feat_lst=df.loc[(df['date']==date) & (df['fips']==fip)][cols].to_numpy().flatten()\n",
    "            date_lst.append(feat_lst)\n",
    "        lista.append(date_lst)\n",
    "    array=np.array(lista)\n",
    "    return array"
   ]
  },
  {
   "cell_type": "code",
   "execution_count": 79,
   "id": "549fbc2e-7401-4b31-9aa4-a905c5922268",
   "metadata": {},
   "outputs": [],
   "source": [
    "def prep_array(df):\n",
    "\n",
    "    df['date']=df['date'].apply(lambda x:x.timestamp())\n",
    "    df['date']=df['date'].astype('float32')\n",
    "\n",
    "    df_redu=pd.get_dummies(df,columns=['score'])\n",
    "    ordem_cols=['date','fips']\n",
    "    new_cols = ordem_cols + df_redu.drop(ordem_cols,axis=1).columns.to_list()\n",
    "    df_redu=df_redu[new_cols]\n",
    "    out_df=pd.get_dummies(df[['date','fips','score']],columns=['score'])\n",
    "    out_df[out_df.columns.to_list()[-6:]]=out_df[out_df.columns.to_list()[-6:]].shift(-6)\n",
    "    #Os ultimoos 6 irei colocar como sendo classe 0, é a classe mais comum e como a fração nula \n",
    "    #é muito pequena 6/6656 no pior dos casosnão deve afetar a perfomance do modelo\n",
    "    out_df[out_df.columns.to_list()[-5:]]=out_df[out_df.columns.to_list()[-5:]].fillna(0)\n",
    "    out_df['score_0.0']=out_df['score_0.0'].fillna(1)\n",
    "    \n",
    "    cols= df_redu.columns.to_list()[2:]\n",
    "    cols_out =out_df.columns.to_list()[2:]\n",
    "    input_array=shape_data(df_redu,cols)\n",
    "    output_array=shape_data(out_df,cols_out)\n",
    "    return input_array,output_array\n"
   ]
  },
  {
   "cell_type": "code",
   "execution_count": 80,
   "id": "2d5b2352-6b4b-4857-a80f-98dd4e2763bd",
   "metadata": {},
   "outputs": [
    {
     "data": {
      "application/vnd.jupyter.widget-view+json": {
       "model_id": "ca471b1fc3094972b9697c8aec4005d1",
       "version_major": 2,
       "version_minor": 0
      },
      "text/plain": [
       "  0%|          | 0/887 [00:00<?, ?it/s]"
      ]
     },
     "metadata": {},
     "output_type": "display_data"
    },
    {
     "data": {
      "application/vnd.jupyter.widget-view+json": {
       "model_id": "f677488c5d9e47c880d9fb5d31d93d1e",
       "version_major": 2,
       "version_minor": 0
      },
      "text/plain": [
       "  0%|          | 0/887 [00:00<?, ?it/s]"
      ]
     },
     "metadata": {},
     "output_type": "display_data"
    }
   ],
   "source": [
    "train_in_array,train_out_array = prep_array(train_df)\n",
    "np.save('model_datasets/train_in_array.npy',train_in_array)\n",
    "np.save('model_datasets/train_out_array.npy',train_out_array)"
   ]
  },
  {
   "cell_type": "code",
   "execution_count": 81,
   "id": "bc729187-d331-4ae8-81c5-58866f9d2f53",
   "metadata": {},
   "outputs": [
    {
     "data": {
      "application/vnd.jupyter.widget-view+json": {
       "model_id": "317abe1216a4418d84a6385907af389a",
       "version_major": 2,
       "version_minor": 0
      },
      "text/plain": [
       "  0%|          | 0/104 [00:00<?, ?it/s]"
      ]
     },
     "metadata": {},
     "output_type": "display_data"
    },
    {
     "data": {
      "application/vnd.jupyter.widget-view+json": {
       "model_id": "04eac392e94e45b2b17916086c309a45",
       "version_major": 2,
       "version_minor": 0
      },
      "text/plain": [
       "  0%|          | 0/104 [00:00<?, ?it/s]"
      ]
     },
     "metadata": {},
     "output_type": "display_data"
    }
   ],
   "source": [
    "valid_in_array,valid_out_array = prep_array(valid_df)\n",
    "np.save('model_datasets/valid_in_array.npy',valid_in_array)\n",
    "np.save('model_datasets/valid_out_array.npy',valid_out_array)"
   ]
  },
  {
   "cell_type": "code",
   "execution_count": 82,
   "id": "922de224-e647-424a-9f33-763ccbbc814d",
   "metadata": {},
   "outputs": [
    {
     "data": {
      "application/vnd.jupyter.widget-view+json": {
       "model_id": "5a563813dac748d5bca6a1e7475ef91e",
       "version_major": 2,
       "version_minor": 0
      },
      "text/plain": [
       "  0%|          | 0/105 [00:00<?, ?it/s]"
      ]
     },
     "metadata": {},
     "output_type": "display_data"
    },
    {
     "data": {
      "application/vnd.jupyter.widget-view+json": {
       "model_id": "0f43f91d0bf94e159055d21b41be47f4",
       "version_major": 2,
       "version_minor": 0
      },
      "text/plain": [
       "  0%|          | 0/105 [00:00<?, ?it/s]"
      ]
     },
     "metadata": {},
     "output_type": "display_data"
    }
   ],
   "source": [
    "test_in_array,test_out_array = prep_array(test_df)\n",
    "np.save('model_datasets/test_in_array.npy',test_in_array)\n",
    "np.save('model_datasets/test_out_array.npy',test_out_array)"
   ]
  },
  {
   "cell_type": "code",
   "execution_count": null,
   "id": "e354982f-719e-4ac3-bc03-2c3f7c6df60b",
   "metadata": {},
   "outputs": [],
   "source": []
  }
 ],
 "metadata": {
  "kernelspec": {
   "display_name": "Python 3",
   "language": "python",
   "name": "python3"
  },
  "language_info": {
   "codemirror_mode": {
    "name": "ipython",
    "version": 3
   },
   "file_extension": ".py",
   "mimetype": "text/x-python",
   "name": "python",
   "nbconvert_exporter": "python",
   "pygments_lexer": "ipython3",
   "version": "3.8.8"
  }
 },
 "nbformat": 4,
 "nbformat_minor": 5
}
