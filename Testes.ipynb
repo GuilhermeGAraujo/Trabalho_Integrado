{
 "cells": [
  {
   "cell_type": "code",
   "execution_count": 96,
   "id": "ff6696bd-5737-4eb9-9892-deceb647ed8c",
   "metadata": {},
   "outputs": [],
   "source": [
    "import pandas as pd\n",
    "from statsmodels.tsa.stattools import grangercausalitytests as gc_test\n",
    "import random\n",
    "import itertools\n",
    "from scipy.stats import ttest_ind"
   ]
  },
  {
   "cell_type": "code",
   "execution_count": 112,
   "id": "af9fb214-dbc2-4ae6-affe-f20174459794",
   "metadata": {},
   "outputs": [],
   "source": [
    "train =pd.read_pickle(\"model_datasets//train_model.pbz2\")"
   ]
  },
  {
   "cell_type": "markdown",
   "id": "f6a41789-ad34-4cc6-ac0f-4e84edc28d6a",
   "metadata": {},
   "source": [
    "# Teste de Causaliade de Granger"
   ]
  },
  {
   "cell_type": "code",
   "execution_count": null,
   "id": "e1487f67-f6c7-442c-8cea-21136c7baead",
   "metadata": {},
   "outputs": [],
   "source": [
    "train_gc=train.set_index(pd.DatetimeIndex(train.date))"
   ]
  },
  {
   "cell_type": "code",
   "execution_count": null,
   "id": "6af4687d-b313-4d99-802e-d5cd6342c66d",
   "metadata": {},
   "outputs": [],
   "source": [
    "train_gc=train_gc[['fips','score']]\n",
    "train_gc=train_gc.pivot(columns= 'fips',values='score')\n"
   ]
  },
  {
   "cell_type": "code",
   "execution_count": 45,
   "id": "dbadfc4c-1d56-42fa-aaa9-17314feeb5b4",
   "metadata": {},
   "outputs": [
    {
     "name": "stdout",
     "output_type": "stream",
     "text": [
      "\n",
      "Granger Causality\n",
      "number of lags (no zero) 1\n"
     ]
    },
    {
     "ename": "InfeasibleTestError",
     "evalue": "The Granger causality test statistic cannot be compute because the VAR has a perfect fit of the data.",
     "output_type": "error",
     "traceback": [
      "\u001b[1;31m---------------------------------------------------------------------------\u001b[0m",
      "\u001b[1;31mInfeasibleTestError\u001b[0m                       Traceback (most recent call last)",
      "\u001b[1;32m<ipython-input-45-a7a5d57478a4>\u001b[0m in \u001b[0;36m<module>\u001b[1;34m\u001b[0m\n\u001b[1;32m----> 1\u001b[1;33m \u001b[0mgc_test\u001b[0m\u001b[1;33m(\u001b[0m\u001b[0mtrain\u001b[0m\u001b[1;33m,\u001b[0m\u001b[0mmaxlag\u001b[0m\u001b[1;33m=\u001b[0m\u001b[1;36m6\u001b[0m\u001b[1;33m)\u001b[0m\u001b[1;33m\u001b[0m\u001b[1;33m\u001b[0m\u001b[0m\n\u001b[0m",
      "\u001b[1;32m~\\anaconda3\\lib\\site-packages\\statsmodels\\tsa\\stattools.py\u001b[0m in \u001b[0;36mgrangercausalitytests\u001b[1;34m(x, maxlag, addconst, verbose)\u001b[0m\n\u001b[0;32m   1415\u001b[0m                 \u001b[1;32mor\u001b[0m \u001b[0mres2djoint\u001b[0m\u001b[1;33m.\u001b[0m\u001b[0mparams\u001b[0m\u001b[1;33m.\u001b[0m\u001b[0mshape\u001b[0m\u001b[1;33m[\u001b[0m\u001b[1;36m0\u001b[0m\u001b[1;33m]\u001b[0m \u001b[1;33m!=\u001b[0m \u001b[0mdtajoint\u001b[0m\u001b[1;33m.\u001b[0m\u001b[0mshape\u001b[0m\u001b[1;33m[\u001b[0m\u001b[1;36m1\u001b[0m\u001b[1;33m]\u001b[0m\u001b[1;33m\u001b[0m\u001b[1;33m\u001b[0m\u001b[0m\n\u001b[0;32m   1416\u001b[0m         ):\n\u001b[1;32m-> 1417\u001b[1;33m             raise InfeasibleTestError(\n\u001b[0m\u001b[0;32m   1418\u001b[0m                 \u001b[1;34m\"The Granger causality test statistic cannot be compute \"\u001b[0m\u001b[1;33m\u001b[0m\u001b[1;33m\u001b[0m\u001b[0m\n\u001b[0;32m   1419\u001b[0m                 \u001b[1;34m\"because the VAR has a perfect fit of the data.\"\u001b[0m\u001b[1;33m\u001b[0m\u001b[1;33m\u001b[0m\u001b[0m\n",
      "\u001b[1;31mInfeasibleTestError\u001b[0m: The Granger causality test statistic cannot be compute because the VAR has a perfect fit of the data."
     ]
    }
   ],
   "source": [
    "gc_test(train_gc,maxlag=6)"
   ]
  },
  {
   "cell_type": "markdown",
   "id": "4f4aedcb-93d7-461e-ac2b-5d2230318ccf",
   "metadata": {},
   "source": [
    "O teste está dando erro pois algumas das séries são exatamente igais as outras, isso provavelemtne se da deviso a regiões muito próximas terem climas iguais ou muito parecidos, como o objetivo deste teste é mostrar que as condições climáticas se movem ao longo do tempo, irei fazer uma amostragem aleatória de  fips de diferentes estados para verificar "
   ]
  },
  {
   "cell_type": "code",
   "execution_count": 61,
   "id": "be74cd51-8a25-4bee-b117-d75ee45a61a3",
   "metadata": {},
   "outputs": [],
   "source": [
    "fips=list(train_gc.columns)\n",
    "fips_sample=random.sample(fips,100)\n",
    "testes =[]\n",
    "for pair in itertools.permutations(fips_sample,2):\n",
    "    pair=list(pair)\n",
    "    testes.append(gc_test(train_gc[pair],maxlag=6,verbose=False))"
   ]
  },
  {
   "cell_type": "code",
   "execution_count": 64,
   "id": "9fd47d17-8793-4309-9c7b-b717f358fb3c",
   "metadata": {
    "scrolled": true,
    "tags": []
   },
   "outputs": [
    {
     "data": {
      "text/plain": [
       "[{1: ({'ssr_ftest': (14.738648495028487, 0.0001323001173219633, 883.0, 1),\n",
       "    'ssr_chi2test': (14.788723178477053, 0.0001202524611392519, 1),\n",
       "    'lrtest': (14.666656192811388, 0.00012829589109092726, 1),\n",
       "    'params_ftest': (14.738648495028396, 0.000132300117321968, 883.0, 1.0)},\n",
       "   [<statsmodels.regression.linear_model.RegressionResultsWrapper at 0x230425730d0>,\n",
       "    <statsmodels.regression.linear_model.RegressionResultsWrapper at 0x23042573880>,\n",
       "    array([[0., 1., 0.]])]),\n",
       "  2: ({'ssr_ftest': (7.227253381408026, 0.000770447110514635, 880.0, 2),\n",
       "    'ssr_chi2test': (14.536634642150233, 0.0006972843127828076, 2),\n",
       "    'lrtest': (14.41853977394976, 0.0007396970207870043, 2),\n",
       "    'params_ftest': (7.227253381407915, 0.0007704471105147371, 880.0, 2.0)},\n",
       "   [<statsmodels.regression.linear_model.RegressionResultsWrapper at 0x23042573250>,\n",
       "    <statsmodels.regression.linear_model.RegressionResultsWrapper at 0x2303827df40>,\n",
       "    array([[0., 0., 1., 0., 0.],\n",
       "           [0., 0., 0., 1., 0.]])]),\n",
       "  3: ({'ssr_ftest': (7.518546548232074, 5.6954630501008584e-05, 877.0, 3),\n",
       "    'ssr_chi2test': (22.73567325645548, 4.584391459994654e-05, 3),\n",
       "    'lrtest': (22.44822112288466, 5.262053813200623e-05, 3),\n",
       "    'params_ftest': (7.5185465482320275, 5.695463050101698e-05, 877.0, 3.0)},\n",
       "   [<statsmodels.regression.linear_model.RegressionResultsWrapper at 0x22f8c7bae20>,\n",
       "    <statsmodels.regression.linear_model.RegressionResultsWrapper at 0x22f8c7bab20>,\n",
       "    array([[0., 0., 0., 1., 0., 0., 0.],\n",
       "           [0., 0., 0., 0., 1., 0., 0.],\n",
       "           [0., 0., 0., 0., 0., 1., 0.]])]),\n",
       "  4: ({'ssr_ftest': (6.630804632291784, 2.9398586767391388e-05, 874.0, 4),\n",
       "    'ssr_chi2test': (26.796340916767253, 2.1855251733338124e-05, 4),\n",
       "    'lrtest': (26.39779066703295, 2.6305535507695472e-05, 4),\n",
       "    'params_ftest': (6.630804632291842, 2.939858676738867e-05, 874.0, 4.0)},\n",
       "   [<statsmodels.regression.linear_model.RegressionResultsWrapper at 0x23042568d60>,\n",
       "    <statsmodels.regression.linear_model.RegressionResultsWrapper at 0x23042568e80>,\n",
       "    array([[0., 0., 0., 0., 1., 0., 0., 0., 0.],\n",
       "           [0., 0., 0., 0., 0., 1., 0., 0., 0.],\n",
       "           [0., 0., 0., 0., 0., 0., 1., 0., 0.],\n",
       "           [0., 0., 0., 0., 0., 0., 0., 1., 0.]])]),\n",
       "  5: ({'ssr_ftest': (5.360029671344992, 7.325759916630862e-05, 871.0, 5),\n",
       "    'ssr_chi2test': (27.138611768807593, 5.360412700909963e-05, 5),\n",
       "    'lrtest': (26.72946400072601, 6.439510354116429e-05, 5),\n",
       "    'params_ftest': (5.360029671344828, 7.325759916633868e-05, 871.0, 5.0)},\n",
       "   [<statsmodels.regression.linear_model.RegressionResultsWrapper at 0x23042568bb0>,\n",
       "    <statsmodels.regression.linear_model.RegressionResultsWrapper at 0x23042568af0>,\n",
       "    array([[0., 0., 0., 0., 0., 1., 0., 0., 0., 0., 0.],\n",
       "           [0., 0., 0., 0., 0., 0., 1., 0., 0., 0., 0.],\n",
       "           [0., 0., 0., 0., 0., 0., 0., 1., 0., 0., 0.],\n",
       "           [0., 0., 0., 0., 0., 0., 0., 0., 1., 0., 0.],\n",
       "           [0., 0., 0., 0., 0., 0., 0., 0., 0., 1., 0.]])]),\n",
       "  6: ({'ssr_ftest': (4.807933018163598, 7.749866725386204e-05, 868.0, 6),\n",
       "    'ssr_chi2test': (29.279647389415647, 5.3853129249018634e-05, 6),\n",
       "    'lrtest': (28.80361767820841, 6.62695933078148e-05, 6),\n",
       "    'params_ftest': (4.807933018163638, 7.749866725385213e-05, 868.0, 6.0)},\n",
       "   [<statsmodels.regression.linear_model.RegressionResultsWrapper at 0x23042568910>,\n",
       "    <statsmodels.regression.linear_model.RegressionResultsWrapper at 0x23042568ac0>,\n",
       "    array([[0., 0., 0., 0., 0., 0., 1., 0., 0., 0., 0., 0., 0.],\n",
       "           [0., 0., 0., 0., 0., 0., 0., 1., 0., 0., 0., 0., 0.],\n",
       "           [0., 0., 0., 0., 0., 0., 0., 0., 1., 0., 0., 0., 0.],\n",
       "           [0., 0., 0., 0., 0., 0., 0., 0., 0., 1., 0., 0., 0.],\n",
       "           [0., 0., 0., 0., 0., 0., 0., 0., 0., 0., 1., 0., 0.],\n",
       "           [0., 0., 0., 0., 0., 0., 0., 0., 0., 0., 0., 1., 0.]])])},\n",
       " {1: ({'ssr_ftest': (4.8871859538942894, 0.02731240895103888, 883.0, 1),\n",
       "    'ssr_chi2test': (4.903790209683284, 0.02679781678237645, 1),\n",
       "    'lrtest': (4.890269444963224, 0.02700847077702425, 1),\n",
       "    'params_ftest': (4.887185953894417, 0.027312408951036708, 883.0, 1.0)},\n",
       "   [<statsmodels.regression.linear_model.RegressionResultsWrapper at 0x23042568fa0>,\n",
       "    <statsmodels.regression.linear_model.RegressionResultsWrapper at 0x230425686d0>,\n",
       "    array([[0., 1., 0.]])]),\n",
       "  2: ({'ssr_ftest': (2.825515964580983, 0.05981598103836144, 880.0, 2),\n",
       "    'ssr_chi2test': (5.683140065123113, 0.05833400773853372, 2),\n",
       "    'lrtest': (5.664970306526584, 0.05886637976401214, 2),\n",
       "    'params_ftest': (2.8255159645810974, 0.05981598103835406, 880.0, 2.0)},\n",
       "   [<statsmodels.regression.linear_model.RegressionResultsWrapper at 0x23042568430>,\n",
       "    <statsmodels.regression.linear_model.RegressionResultsWrapper at 0x23042568490>,\n",
       "    array([[0., 0., 1., 0., 0.],\n",
       "           [0., 0., 0., 1., 0.]])]),\n",
       "  3: ({'ssr_ftest': (3.707622676132552, 0.011409944722021935, 877.0, 3),\n",
       "    'ssr_chi2test': (11.211648046868333, 0.01063477402129695, 3),\n",
       "    'lrtest': (11.141145655637956, 0.010986625485361948, 3),\n",
       "    'params_ftest': (3.7076226761324853, 0.011409944722022766, 877.0, 3.0)},\n",
       "   [<statsmodels.regression.linear_model.RegressionResultsWrapper at 0x230425680a0>,\n",
       "    <statsmodels.regression.linear_model.RegressionResultsWrapper at 0x23042568c40>,\n",
       "    array([[0., 0., 0., 1., 0., 0., 0.],\n",
       "           [0., 0., 0., 0., 1., 0., 0.],\n",
       "           [0., 0., 0., 0., 0., 1., 0.]])]),\n",
       "  4: ({'ssr_ftest': (3.3120373318338125, 0.01050273712585376, 874.0, 4),\n",
       "    'ssr_chi2test': (13.384571917662502, 0.00954184939243231, 4),\n",
       "    'lrtest': (13.28414340444283, 0.009967724352204626, 4),\n",
       "    'params_ftest': (3.312037331833795, 0.01050273712585376, 874.0, 4.0)},\n",
       "   [<statsmodels.regression.linear_model.RegressionResultsWrapper at 0x2302d7feaf0>,\n",
       "    <statsmodels.regression.linear_model.RegressionResultsWrapper at 0x2302d7fe850>,\n",
       "    array([[0., 0., 0., 0., 1., 0., 0., 0., 0.],\n",
       "           [0., 0., 0., 0., 0., 1., 0., 0., 0.],\n",
       "           [0., 0., 0., 0., 0., 0., 1., 0., 0.],\n",
       "           [0., 0., 0., 0., 0., 0., 0., 1., 0.]])]),\n",
       "  5: ({'ssr_ftest': (2.7687885438058526, 0.017217190068081853, 871.0, 5),\n",
       "    'ssr_chi2test': (14.018780112725384, 0.015490561393414584, 5),\n",
       "    'lrtest': (13.908537325625957, 0.01620095668018047, 5),\n",
       "    'params_ftest': (2.7687885438059454, 0.01721719006807806, 871.0, 5.0)},\n",
       "   [<statsmodels.regression.linear_model.RegressionResultsWrapper at 0x2302d7fe6d0>,\n",
       "    <statsmodels.regression.linear_model.RegressionResultsWrapper at 0x2302d7fe640>,\n",
       "    array([[0., 0., 0., 0., 0., 1., 0., 0., 0., 0., 0.],\n",
       "           [0., 0., 0., 0., 0., 0., 1., 0., 0., 0., 0.],\n",
       "           [0., 0., 0., 0., 0., 0., 0., 1., 0., 0., 0.],\n",
       "           [0., 0., 0., 0., 0., 0., 0., 0., 1., 0., 0.],\n",
       "           [0., 0., 0., 0., 0., 0., 0., 0., 0., 1., 0.]])]),\n",
       "  6: ({'ssr_ftest': (2.483288939951395, 0.021809930339122565, 868.0, 6),\n",
       "    'ssr_chi2test': (15.122886332468978, 0.01932216969941102, 6),\n",
       "    'lrtest': (14.994556179646679, 0.020299098008412904, 6),\n",
       "    'params_ftest': (2.4832889399513456, 0.021809930339125982, 868.0, 6.0)},\n",
       "   [<statsmodels.regression.linear_model.RegressionResultsWrapper at 0x2302d7fe310>,\n",
       "    <statsmodels.regression.linear_model.RegressionResultsWrapper at 0x2302d7fe370>,\n",
       "    array([[0., 0., 0., 0., 0., 0., 1., 0., 0., 0., 0., 0., 0.],\n",
       "           [0., 0., 0., 0., 0., 0., 0., 1., 0., 0., 0., 0., 0.],\n",
       "           [0., 0., 0., 0., 0., 0., 0., 0., 1., 0., 0., 0., 0.],\n",
       "           [0., 0., 0., 0., 0., 0., 0., 0., 0., 1., 0., 0., 0.],\n",
       "           [0., 0., 0., 0., 0., 0., 0., 0., 0., 0., 1., 0., 0.],\n",
       "           [0., 0., 0., 0., 0., 0., 0., 0., 0., 0., 0., 1., 0.]])])},\n",
       " {1: ({'ssr_ftest': (12.11118299226658, 0.000525741434587961, 883.0, 1),\n",
       "    'ssr_chi2test': (12.152330839352421, 0.0004902655588036283, 1),\n",
       "    'lrtest': (12.069744771474461, 0.0005124671607127183, 1),\n",
       "    'params_ftest': (12.111182992266631, 0.0005257414345879372, 883.0, 1.0)},\n",
       "   [<statsmodels.regression.linear_model.RegressionResultsWrapper at 0x2302d7fe070>,\n",
       "    <statsmodels.regression.linear_model.RegressionResultsWrapper at 0x2302d7fef70>,\n",
       "    array([[0., 1., 0.]])]),\n",
       "  2: ({'ssr_ftest': (5.230723491264729, 0.005517246950404294, 880.0, 2),\n",
       "    'ssr_chi2test': (10.52088702220292, 0.005193001054275151, 2),\n",
       "    'lrtest': (10.458842071176832, 0.00535662570071012, 2),\n",
       "    'params_ftest': (5.230723491264668, 0.00551724695040452, 880.0, 2.0)},\n",
       "   [<statsmodels.regression.linear_model.RegressionResultsWrapper at 0x2302d7fedc0>,\n",
       "    <statsmodels.regression.linear_model.RegressionResultsWrapper at 0x2301a9634f0>,\n",
       "    array([[0., 0., 1., 0., 0.],\n",
       "           [0., 0., 0., 1., 0.]])]),\n",
       "  3: ({'ssr_ftest': (3.8772821648467337, 0.009044734280732108, 877.0, 3),\n",
       "    'ssr_chi2test': (11.724689054929918, 0.008388299281107882, 3),\n",
       "    'lrtest': (11.64761621423554, 0.008693126317722849, 3),\n",
       "    'params_ftest': (3.8772821648466866, 0.009044734280733152, 877.0, 3.0)},\n",
       "   [<statsmodels.regression.linear_model.RegressionResultsWrapper at 0x2301a963fa0>,\n",
       "    <statsmodels.regression.linear_model.RegressionResultsWrapper at 0x2301a963c10>,\n",
       "    array([[0., 0., 0., 1., 0., 0., 0.],\n",
       "           [0., 0., 0., 0., 1., 0., 0.],\n",
       "           [0., 0., 0., 0., 0., 1., 0.]])]),\n",
       "  4: ({'ssr_ftest': (3.3140558834814207, 0.010466498488697438, 874.0, 4),\n",
       "    'ssr_chi2test': (13.392729268256726, 0.009508049320893443, 4),\n",
       "    'lrtest': (13.292178915121895, 0.009932976253306287, 4),\n",
       "    'params_ftest': (3.3140558834813714, 0.010466498488698257, 874.0, 4.0)},\n",
       "   [<statsmodels.regression.linear_model.RegressionResultsWrapper at 0x2301a963970>,\n",
       "    <statsmodels.regression.linear_model.RegressionResultsWrapper at 0x2301a963610>,\n",
       "    array([[0., 0., 0., 0., 1., 0., 0., 0., 0.],\n",
       "           [0., 0., 0., 0., 0., 1., 0., 0., 0.],\n",
       "           [0., 0., 0., 0., 0., 0., 1., 0., 0.],\n",
       "           [0., 0., 0., 0., 0., 0., 0., 1., 0.]])]),\n",
       "  5: ({'ssr_ftest': (2.716555944037982, 0.01910899722177688, 871.0, 5),\n",
       "    'ssr_chi2test': (13.754318844095868, 0.01724768006244831, 5),\n",
       "    'lrtest': (13.64817529567813, 0.018005671018064006, 5),\n",
       "    'params_ftest': (2.7165559440379106, 0.019108997221779063, 871.0, 5.0)},\n",
       "   [<statsmodels.regression.linear_model.RegressionResultsWrapper at 0x2301a9634c0>,\n",
       "    <statsmodels.regression.linear_model.RegressionResultsWrapper at 0x2301a963fd0>,\n",
       "    array([[0., 0., 0., 0., 0., 1., 0., 0., 0., 0., 0.],\n",
       "           [0., 0., 0., 0., 0., 0., 1., 0., 0., 0., 0.],\n",
       "           [0., 0., 0., 0., 0., 0., 0., 1., 0., 0., 0.],\n",
       "           [0., 0., 0., 0., 0., 0., 0., 0., 1., 0., 0.],\n",
       "           [0., 0., 0., 0., 0., 0., 0., 0., 0., 1., 0.]])]),\n",
       "  6: ({'ssr_ftest': (2.3771988387939422, 0.02769091827026444, 868.0, 6),\n",
       "    'ssr_chi2test': (14.476812283254354, 0.024740510997619335, 6),\n",
       "    'lrtest': (14.359156137471246, 0.025871630577983692, 6),\n",
       "    'params_ftest': (2.377198838793903, 0.027690918270266974, 868.0, 6.0)},\n",
       "   [<statsmodels.regression.linear_model.RegressionResultsWrapper at 0x2301a9633d0>,\n",
       "    <statsmodels.regression.linear_model.RegressionResultsWrapper at 0x2301a963a60>,\n",
       "    array([[0., 0., 0., 0., 0., 0., 1., 0., 0., 0., 0., 0., 0.],\n",
       "           [0., 0., 0., 0., 0., 0., 0., 1., 0., 0., 0., 0., 0.],\n",
       "           [0., 0., 0., 0., 0., 0., 0., 0., 1., 0., 0., 0., 0.],\n",
       "           [0., 0., 0., 0., 0., 0., 0., 0., 0., 1., 0., 0., 0.],\n",
       "           [0., 0., 0., 0., 0., 0., 0., 0., 0., 0., 1., 0., 0.],\n",
       "           [0., 0., 0., 0., 0., 0., 0., 0., 0., 0., 0., 1., 0.]])])},\n",
       " {1: ({'ssr_ftest': (0.3561166096256913, 0.5508238889959525, 883.0, 1),\n",
       "    'ssr_chi2test': (0.3573265188316676, 0.5499947805376264, 1),\n",
       "    'lrtest': (0.3572544827584352, 0.5500349933748626, 1),\n",
       "    'params_ftest': (0.35611660962572017, 0.5508238889959525, 883.0, 1.0)},\n",
       "   [<statsmodels.regression.linear_model.RegressionResultsWrapper at 0x2301a963550>,\n",
       "    <statsmodels.regression.linear_model.RegressionResultsWrapper at 0x2301a963910>,\n",
       "    array([[0., 1., 0.]])]),\n",
       "  2: ({'ssr_ftest': (1.1218981016017868, 0.32612640151282707, 880.0, 2),\n",
       "    'ssr_chi2test': (2.2565450452672304, 0.3235917713333536, 2),\n",
       "    'lrtest': (2.253673092468489, 0.32405677526745197, 2),\n",
       "    'params_ftest': (1.1218981016018637, 0.32612640151281874, 880.0, 2.0)},\n",
       "   [<statsmodels.regression.linear_model.RegressionResultsWrapper at 0x2301a9637c0>,\n",
       "    <statsmodels.regression.linear_model.RegressionResultsWrapper at 0x2301a963040>,\n",
       "    array([[0., 0., 1., 0., 0.],\n",
       "           [0., 0., 0., 1., 0.]])]),\n",
       "  3: ({'ssr_ftest': (1.0806723952420887, 0.35638216357891417, 877.0, 3),\n",
       "    'ssr_chi2test': (3.267894175806179, 0.35213623329781796, 3),\n",
       "    'lrtest': (3.2618687874346506, 0.35298515739908415, 3),\n",
       "    'params_ftest': (1.0806723952420834, 0.35638216357891417, 877.0, 3.0)},\n",
       "   [<statsmodels.regression.linear_model.RegressionResultsWrapper at 0x2304256f220>,\n",
       "    <statsmodels.regression.linear_model.RegressionResultsWrapper at 0x2304256f250>,\n",
       "    array([[0., 0., 0., 1., 0., 0., 0.],\n",
       "           [0., 0., 0., 0., 1., 0., 0.],\n",
       "           [0., 0., 0., 0., 0., 1., 0.]])]),\n",
       "  4: ({'ssr_ftest': (0.7536763443457486, 0.5556591914127357, 874.0, 4),\n",
       "    'ssr_chi2test': (3.0457492542668008, 0.5501987784484583, 4),\n",
       "    'lrtest': (3.0405084209671713, 0.5510694485357467, 4),\n",
       "    'params_ftest': (0.753676344345729, 0.5556591914127357, 874.0, 4.0)},\n",
       "   [<statsmodels.regression.linear_model.RegressionResultsWrapper at 0x2304256f3d0>,\n",
       "    <statsmodels.regression.linear_model.RegressionResultsWrapper at 0x2304256f490>,\n",
       "    array([[0., 0., 0., 0., 1., 0., 0., 0., 0.],\n",
       "           [0., 0., 0., 0., 0., 1., 0., 0., 0.],\n",
       "           [0., 0., 0., 0., 0., 0., 1., 0., 0.],\n",
       "           [0., 0., 0., 0., 0., 0., 0., 1., 0.]])]),\n",
       "  5: ({'ssr_ftest': (0.6134482508340672, 0.6896383547180773, 871.0, 5),\n",
       "    'ssr_chi2test': (3.105977940503142, 0.6836511301913893, 5),\n",
       "    'lrtest': (3.100521868885153, 0.6844916186631954, 5),\n",
       "    'params_ftest': (0.6134482508342117, 0.6896383547179419, 871.0, 5.0)},\n",
       "   [<statsmodels.regression.linear_model.RegressionResultsWrapper at 0x2304256f610>,\n",
       "    <statsmodels.regression.linear_model.RegressionResultsWrapper at 0x2304256f6d0>,\n",
       "    array([[0., 0., 0., 0., 0., 1., 0., 0., 0., 0., 0.],\n",
       "           [0., 0., 0., 0., 0., 0., 1., 0., 0., 0., 0.],\n",
       "           [0., 0., 0., 0., 0., 0., 0., 1., 0., 0., 0.],\n",
       "           [0., 0., 0., 0., 0., 0., 0., 0., 1., 0., 0.],\n",
       "           [0., 0., 0., 0., 0., 0., 0., 0., 0., 1., 0.]])]),\n",
       "  6: ({'ssr_ftest': (0.554727461809582, 0.7664790859238496, 868.0, 6),\n",
       "    'ssr_chi2test': (3.378213551987846, 0.7600959737766562, 6),\n",
       "    'lrtest': (3.3717531453071388, 0.7609467487288724, 6),\n",
       "    'params_ftest': (0.554727461809614, 0.7664790859238364, 868.0, 6.0)},\n",
       "   [<statsmodels.regression.linear_model.RegressionResultsWrapper at 0x2304256f850>,\n",
       "    <statsmodels.regression.linear_model.RegressionResultsWrapper at 0x2304256f910>,\n",
       "    array([[0., 0., 0., 0., 0., 0., 1., 0., 0., 0., 0., 0., 0.],\n",
       "           [0., 0., 0., 0., 0., 0., 0., 1., 0., 0., 0., 0., 0.],\n",
       "           [0., 0., 0., 0., 0., 0., 0., 0., 1., 0., 0., 0., 0.],\n",
       "           [0., 0., 0., 0., 0., 0., 0., 0., 0., 1., 0., 0., 0.],\n",
       "           [0., 0., 0., 0., 0., 0., 0., 0., 0., 0., 1., 0., 0.],\n",
       "           [0., 0., 0., 0., 0., 0., 0., 0., 0., 0., 0., 1., 0.]])])},\n",
       " {1: ({'ssr_ftest': (19.072964530052765, 1.4072843231630347e-05, 883.0, 1),\n",
       "    'ssr_chi2test': (19.137765089045015, 1.216145645748699e-05, 1),\n",
       "    'lrtest': (18.9340044007688, 1.3531906392501783e-05, 1),\n",
       "    'params_ftest': (19.07296453005278, 1.4072843231630347e-05, 883.0, 1.0)},\n",
       "   [<statsmodels.regression.linear_model.RegressionResultsWrapper at 0x2304256f970>,\n",
       "    <statsmodels.regression.linear_model.RegressionResultsWrapper at 0x2304256fb20>,\n",
       "    array([[0., 1., 0.]])]),\n",
       "  2: ({'ssr_ftest': (9.662629391116093, 7.062973166654878e-05, 880.0, 2),\n",
       "    'ssr_chi2test': (19.435061388949418, 6.021851501936411e-05, 2),\n",
       "    'lrtest': (19.224733058451875, 6.689632472227577e-05, 2),\n",
       "    'params_ftest': (9.662629391116234, 7.062973166653548e-05, 880.0, 2.0)},\n",
       "   [<statsmodels.regression.linear_model.RegressionResultsWrapper at 0x2304256fd00>,\n",
       "    <statsmodels.regression.linear_model.RegressionResultsWrapper at 0x2304256fd90>,\n",
       "    array([[0., 0., 1., 0., 0.],\n",
       "           [0., 0., 0., 1., 0.]])]),\n",
       "  3: ({'ssr_ftest': (6.897328221785089, 0.0001360601773971898, 877.0, 3),\n",
       "    'ssr_chi2test': (20.857143037826745, 0.00011271806746082683, 3),\n",
       "    'lrtest': (20.61489379509453, 0.00012655389768799328, 3),\n",
       "    'params_ftest': (6.897328221785172, 0.00013606017739716659, 877.0, 3.0)},\n",
       "   [<statsmodels.regression.linear_model.RegressionResultsWrapper at 0x2304256ffd0>,\n",
       "    <statsmodels.regression.linear_model.RegressionResultsWrapper at 0x23041e09040>,\n",
       "    array([[0., 0., 0., 1., 0., 0., 0.],\n",
       "           [0., 0., 0., 0., 1., 0., 0.],\n",
       "           [0., 0., 0., 0., 0., 1., 0.]])]),\n",
       "  4: ({'ssr_ftest': (5.285562254200612, 0.00032928331932147306, 874.0, 4),\n",
       "    'ssr_chi2test': (21.359960963199725, 0.00026864918478076023, 4),\n",
       "    'lrtest': (21.105702148674936, 0.00030174785046691634, 4),\n",
       "    'params_ftest': (5.285562254200546, 0.0003292833193215169, 874.0, 4.0)},\n",
       "   [<statsmodels.regression.linear_model.RegressionResultsWrapper at 0x23041e091c0>,\n",
       "    <statsmodels.regression.linear_model.RegressionResultsWrapper at 0x23041e09280>,\n",
       "    array([[0., 0., 0., 0., 1., 0., 0., 0., 0.],\n",
       "           [0., 0., 0., 0., 0., 1., 0., 0., 0.],\n",
       "           [0., 0., 0., 0., 0., 0., 1., 0., 0.],\n",
       "           [0., 0., 0., 0., 0., 0., 0., 1., 0.]])]),\n",
       "  5: ({'ssr_ftest': (4.235741922801659, 0.0008238234390197109, 871.0, 5),\n",
       "    'ssr_chi2test': (21.4461789661944, 0.0006669636981577958, 5),\n",
       "    'lrtest': (21.18959379574244, 0.0007458919198305454, 5),\n",
       "    'params_ftest': (4.235741922801585, 0.0008238234390197958, 871.0, 5.0)},\n",
       "   [<statsmodels.regression.linear_model.RegressionResultsWrapper at 0x23041e09400>,\n",
       "    <statsmodels.regression.linear_model.RegressionResultsWrapper at 0x23041e094c0>,\n",
       "    array([[0., 0., 0., 0., 0., 1., 0., 0., 0., 0., 0.],\n",
       "           [0., 0., 0., 0., 0., 0., 1., 0., 0., 0., 0.],\n",
       "           [0., 0., 0., 0., 0., 0., 0., 1., 0., 0., 0.],\n",
       "           [0., 0., 0., 0., 0., 0., 0., 0., 1., 0., 0.],\n",
       "           [0., 0., 0., 0., 0., 0., 0., 0., 0., 1., 0.]])]),\n",
       "  6: ({'ssr_ftest': (3.533288179741119, 0.001839854414262914, 868.0, 6),\n",
       "    'ssr_chi2test': (21.517236541603175, 0.0014804841530740736, 6),\n",
       "    'lrtest': (21.25867338234093, 0.0016482271357887216, 6),\n",
       "    'params_ftest': (3.533288179741129, 0.001839854414262816, 868.0, 6.0)},\n",
       "   [<statsmodels.regression.linear_model.RegressionResultsWrapper at 0x23041e09640>,\n",
       "    <statsmodels.regression.linear_model.RegressionResultsWrapper at 0x23041e09700>,\n",
       "    array([[0., 0., 0., 0., 0., 0., 1., 0., 0., 0., 0., 0., 0.],\n",
       "           [0., 0., 0., 0., 0., 0., 0., 1., 0., 0., 0., 0., 0.],\n",
       "           [0., 0., 0., 0., 0., 0., 0., 0., 1., 0., 0., 0., 0.],\n",
       "           [0., 0., 0., 0., 0., 0., 0., 0., 0., 1., 0., 0., 0.],\n",
       "           [0., 0., 0., 0., 0., 0., 0., 0., 0., 0., 1., 0., 0.],\n",
       "           [0., 0., 0., 0., 0., 0., 0., 0., 0., 0., 0., 1., 0.]])])}]"
      ]
     },
     "execution_count": 64,
     "metadata": {},
     "output_type": "execute_result"
    }
   ],
   "source": [
    "testes[:5]"
   ]
  },
  {
   "cell_type": "code",
   "execution_count": 65,
   "id": "9c1a7c63-8bdf-419f-8f43-e8135ef6aa31",
   "metadata": {},
   "outputs": [
    {
     "data": {
      "text/plain": [
       "['31147', '8053', '19035', '31181', '48089', '19113']"
      ]
     },
     "execution_count": 65,
     "metadata": {},
     "output_type": "execute_result"
    }
   ],
   "source": [
    "fips_sample[:6]"
   ]
  },
  {
   "cell_type": "markdown",
   "id": "9d1247c3-5714-4879-b265-1e14a770789f",
   "metadata": {},
   "source": [
    "# Teste de hipoteses quanto a semelhança de distribuiçoes"
   ]
  },
  {
   "cell_type": "markdown",
   "id": "dcd27d70-140f-4909-bf34-5f41e1af3123",
   "metadata": {},
   "source": [
    "Teste das dsitirbuições de QV2M"
   ]
  },
  {
   "cell_type": "code",
   "execution_count": 117,
   "id": "0916212d-556a-4626-b518-8cd463c9749e",
   "metadata": {},
   "outputs": [
    {
     "data": {
      "text/plain": [
       "{0: Ttest_indResult(statistic=-1.2641925112729082, pvalue=0.20617487422124484),\n",
       " 1: Ttest_indResult(statistic=24.960856309144038, pvalue=8.746656114642769e-136),\n",
       " 2: Ttest_indResult(statistic=22.53193910083926, pvalue=2.3631993390207524e-111),\n",
       " 3: Ttest_indResult(statistic=25.60964509530738, pvalue=5.31374236616931e-143),\n",
       " 4: Ttest_indResult(statistic=26.156230264789375, pvalue=2.4395007251807277e-149)}"
      ]
     },
     "execution_count": 117,
     "metadata": {},
     "output_type": "execute_result"
    }
   ],
   "source": [
    "qv2m =train.groupby('score')['QV2M']\n",
    "qv2m_dic={group: qv2m.get_group(group) for group in qv2m.groups}\n",
    "qv2m_test={key: ttest_ind(qv2m_dic[5],qv2m_dic[key],equal_var=False) for key in [0,1,2,3,4]}\n",
    "qv2m_test"
   ]
  },
  {
   "cell_type": "markdown",
   "id": "e6be8070-5091-4672-8865-b424cab7fd0d",
   "metadata": {},
   "source": [
    "Teste mostra qeu todas disitribuiçõesde QV2M menos a classificação normal é semlhante a classificação de seca extrema"
   ]
  },
  {
   "cell_type": "code",
   "execution_count": 118,
   "id": "5eb1a309-c43f-4953-8c5d-3c859496a884",
   "metadata": {},
   "outputs": [
    {
     "data": {
      "text/plain": [
       "{0: Ttest_indResult(statistic=77.66730466689026, pvalue=0.0),\n",
       " 1: Ttest_indResult(statistic=80.38520905488554, pvalue=0.0),\n",
       " 2: Ttest_indResult(statistic=66.44628873314828, pvalue=0.0),\n",
       " 3: Ttest_indResult(statistic=55.83434762221066, pvalue=0.0),\n",
       " 4: Ttest_indResult(statistic=45.46959373655769, pvalue=0.0)}"
      ]
     },
     "execution_count": 118,
     "metadata": {},
     "output_type": "execute_result"
    }
   ],
   "source": [
    "t2m=train.groupby('score')['T2M']\n",
    "t2m_dic={group: t2m.get_group(group) for group in t2m.groups}\n",
    "t2m_test={key: ttest_ind(t2m_dic[5],t2m_dic[key],equal_var=False) for key in [0,1,2,3,4]}\n",
    "t2m_test"
   ]
  },
  {
   "cell_type": "code",
   "execution_count": 121,
   "id": "0a8f7544-f614-41f7-be72-4621c566ff8b",
   "metadata": {},
   "outputs": [
    {
     "data": {
      "text/plain": [
       "{0: Ttest_indResult(statistic=81.82589777258245, pvalue=0.0),\n",
       " 1: Ttest_indResult(statistic=82.86349067906018, pvalue=0.0),\n",
       " 2: Ttest_indResult(statistic=68.06721081943995, pvalue=0.0),\n",
       " 3: Ttest_indResult(statistic=56.904264593361546, pvalue=0.0),\n",
       " 4: Ttest_indResult(statistic=46.24243022006639, pvalue=0.0)}"
      ]
     },
     "execution_count": 121,
     "metadata": {},
     "output_type": "execute_result"
    }
   ],
   "source": [
    "ts=train.groupby('score')['TS']\n",
    "ts_dic={group: ts.get_group(group) for group in ts.groups}\n",
    "ts_test={key: ttest_ind(ts_dic[5],ts_dic[key],equal_var=False) for key in [0,1,2,3,4]}\n",
    "ts_test"
   ]
  },
  {
   "cell_type": "code",
   "execution_count": null,
   "id": "e33426bd-531d-4936-a455-c90c09aaa8e0",
   "metadata": {},
   "outputs": [],
   "source": []
  }
 ],
 "metadata": {
  "kernelspec": {
   "display_name": "Python 3",
   "language": "python",
   "name": "python3"
  },
  "language_info": {
   "codemirror_mode": {
    "name": "ipython",
    "version": 3
   },
   "file_extension": ".py",
   "mimetype": "text/x-python",
   "name": "python",
   "nbconvert_exporter": "python",
   "pygments_lexer": "ipython3",
   "version": "3.8.8"
  }
 },
 "nbformat": 4,
 "nbformat_minor": 5
}
